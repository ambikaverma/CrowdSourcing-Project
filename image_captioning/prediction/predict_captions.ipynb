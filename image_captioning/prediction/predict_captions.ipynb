{
 "cells": [
  {
   "cell_type": "code",
   "execution_count": 1,
   "metadata": {},
   "outputs": [],
   "source": [
    "import glob, json, requests\n",
    "from azure_cfg import api_key"
   ]
  },
  {
   "cell_type": "code",
   "execution_count": 2,
   "metadata": {},
   "outputs": [],
   "source": [
    "subscription_key = api_key\n",
    "\n",
    "vision_base_url = \"https://westcentralus.api.cognitive.microsoft.com/vision/v1.0/\"\n",
    "vision_analyze_url = vision_base_url + \"analyze?\""
   ]
  },
  {
   "cell_type": "code",
   "execution_count": 8,
   "metadata": {
    "scrolled": false
   },
   "outputs": [],
   "source": [
    "# predict image captions using the Microsoft Azure Computer Vision API\n",
    "def predict_captions(image_dir):    \n",
    "    dataset     = image_dir.split('/')[-3]\n",
    "    images      = glob.glob(image_dir)\n",
    "    predictions = {}\n",
    "        \n",
    "    for image_path in images:\n",
    "        try:\n",
    "            headers  = {'Ocp-Apim-Subscription-Key': subscription_key,\n",
    "                        'Content-Type'             : 'application/octet-stream'}\n",
    "            params   = {'visualFeatures': 'Description'}\n",
    "            data     = open(image_path, 'rb')\n",
    "\n",
    "            response = requests.post(vision_analyze_url, headers=headers, \\\n",
    "                                     params=params, data=data)\n",
    "            response.raise_for_status()\n",
    "            analysis = response.json()\n",
    "\n",
    "            name     = image_path.split('/')[-1]\n",
    "            caption  = analysis['description']['captions']\n",
    "\n",
    "            predictions[name] = caption\n",
    "        except Error:\n",
    "            print('Error occurred for ' + image_path)\n",
    "    \n",
    "    with open(dataset + '_predictions.json', 'w') as handle:\n",
    "        json.dump(predictions, handle, sort_keys=True, indent=4)"
   ]
  },
  {
   "cell_type": "code",
   "execution_count": 9,
   "metadata": {
    "scrolled": true
   },
   "outputs": [],
   "source": [
    "# coco predictions  \n",
    "predict_captions('../../dataset_creation/coco/images/*.jpg')"
   ]
  },
  {
   "cell_type": "code",
   "execution_count": 5,
   "metadata": {},
   "outputs": [],
   "source": [
    "# pascal predictions\n",
    "predict_captions('../../dataset_creation/pascal/images/*.jpg')"
   ]
  },
  {
   "cell_type": "code",
   "execution_count": 6,
   "metadata": {},
   "outputs": [],
   "source": [
    "# vizwiz predictions\n",
    "predict_captions('../../dataset_creation/vizwiz/images/*.jpg')"
   ]
  },
  {
   "cell_type": "code",
   "execution_count": null,
   "metadata": {},
   "outputs": [],
   "source": []
  }
 ],
 "metadata": {
  "kernelspec": {
   "display_name": "Python 3",
   "language": "python",
   "name": "python3"
  },
  "language_info": {
   "codemirror_mode": {
    "name": "ipython",
    "version": 3
   },
   "file_extension": ".py",
   "mimetype": "text/x-python",
   "name": "python",
   "nbconvert_exporter": "python",
   "pygments_lexer": "ipython3",
   "version": "3.5.2"
  }
 },
 "nbformat": 4,
 "nbformat_minor": 2
}
